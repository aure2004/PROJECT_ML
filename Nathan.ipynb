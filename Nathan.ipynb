{
 "cells": [
  {
   "metadata": {},
   "cell_type": "markdown",
   "source": "Electric Vehicle Analytics Dataset.",
   "id": "4f382fb8f2c6c0ff"
  },
  {
   "metadata": {},
   "cell_type": "markdown",
   "source": [
    "The transition to electric mobility is emerging as a major challenge for the 21st century, both in terms of the environment and energy. Range is now one of the most decisive criteria for consumers and car manufacturers. It depends on many factors such as battery capacity, engine power, vehicle weight, and conditions of use.\n",
    "\n",
    "In this project, we are using the “Electric Vehicle Analytics” dataset available on Kaggle.\n",
    "This dataset includes various technical and descriptive characteristics of electric vehicles sold worldwide, such as brand, model, battery capacity, power, maximum speed, and charging type.\n",
    "\n",
    "The objective of this study is to model and predict the range of an electric vehicle based on its technical characteristics. Before proceeding to the modeling phase, an in-depth exploratory data analysis (EDA) will be conducted to understand the structure of the dataset, detect relevant correlations, and prepare the data for machine learning.\n",
    "\n",
    "This work will ultimately enable us to identify the variables that have the greatest impact on range, assess data quality, and build a reliable predictive model for estimating the energy performance of electric vehicles.\n"
   ],
   "id": "9dc17179e979915e"
  },
  {
   "metadata": {},
   "cell_type": "markdown",
   "source": [
    "The dataset used in this project contains a total of 3,001 rows, 3,000 of which correspond to electric vehicles. The last row appears to be a summary or out-of-context entry and will eventually be excluded from the analysis.\n",
    "\n",
    "It has 25 columns describing the technical, economic, and environmental characteristics of the vehicles. These variables cover a wide range of information, from battery power and capacity to maintenance costs and resale value.\n",
    "\n",
    "The main information available includes:\n",
    "\n",
    "Vehicle identification, through the variables Vehicle_ID, Make, Model, and Year, which specify the unique identifier, manufacturer, model, and year of production, respectively.\n",
    "\n",
    "Geographical and functional characteristics, with Region and Vehicle_Type, indicating the area of use and type of vehicle (SUV, sedan, city car, etc.).\n",
    "\n",
    "Battery-related data, which is essential for our study: Battery_Capacity_kWh, Battery_Health_%, Charging_Power_kW, Charging_Time_hr, and Charge_Cycles, which provide information on capacity, condition, charging power and time, and the number of charging cycles completed.\n",
    "\n",
    "Energy and dynamic performance, including Range_km (range in kilometers, target variable), Energy_Consumption_kWh_per_100km, Mileage_km, Avg_Speed_kmh, Max_Speed_kmh, and Acceleration_0_100_kmh_sec. These parameters directly reflect the overall performance of the vehicle and its energy consumption.\n",
    "\n",
    "Conditions of use, such as Temperature_C and Usage_Type (personal, commercial, fleet) which may influence wear and tear and range.\n",
    "\n",
    "Economic and environmental aspects, with CO2_Saved_tons, Maintenance_Cost_USD, Insurance_Cost_USD, Electricity_Cost_USD_per_kWh, Monthly_Charging_Cost_USD, and Resale_Value_USD, allowing the overall cost and environmental benefits associated with each vehicle to be assessed.\n"
   ],
   "id": "d63cb50e91c76545"
  },
  {
   "metadata": {},
   "cell_type": "markdown",
   "source": [
    "Using our knowledge, we can identify several relevant criteria that influence the range of electric vehicles before conducting any analysis. In general, the latest models tend to have a longer range, as technological advances enable better energy management and optimized performance.\n",
    "\n",
    "In addition, the type of vehicle also plays an important role: an SUV generally has a less favorable aerodynamic coefficient than a sedan, which translates into higher fuel consumption and therefore reduced range.\n",
    "\n",
    "From a technical standpoint, a higher-capacity battery logically leads to greater range. However, this relationship also depends on the overall efficiency of the vehicle, i.e., its ability to consume available energy efficiently.\n",
    "\n",
    "Finally, as with phone batteries, a high number of charge cycles leads to gradual battery degradation, which directly affects range. Similarly, high mileage can indicate battery wear, although this effect varies depending on how the vehicle is used (short trips with frequent recharging or long trips with less frequent recharging). The Battery_Health_% column will therefore allow you to assess the health of the battery and analyze its impact on range.\n"
   ],
   "id": "8a4e3da12054fe39"
  }
 ],
 "metadata": {},
 "nbformat": 4,
 "nbformat_minor": 5
}
